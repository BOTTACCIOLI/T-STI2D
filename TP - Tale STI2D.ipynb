{
 "cells": [
  {
   "cell_type": "markdown",
   "metadata": {},
   "source": [
    "# TP Informatique "
   ]
  },
  {
   "cell_type": "markdown",
   "metadata": {},
   "source": [
    "## I. La méthode de balayage"
   ]
  },
  {
   "cell_type": "markdown",
   "metadata": {},
   "source": [
    "On considère la fonction $f$ définie par $f(x)=x^2-3x-7$ et on admet ici que l'équation $f(x)=0$ possède une unique solution positive. \n",
    "\n",
    "A l'aide de la méthode de balayage et de votre calculatrice, déterminer une valeur approchée au dixième près de cette solution et indiquer la réponse ci-dessous :"
   ]
  },
  {
   "cell_type": "raw",
   "metadata": {},
   "source": []
  },
  {
   "cell_type": "markdown",
   "metadata": {},
   "source": [
    "On cherche maintenant à créer un algorithme qui réponde à ce problème. Compléter l'algorithme ci-dessous :"
   ]
  },
  {
   "cell_type": "code",
   "execution_count": 15,
   "metadata": {},
   "outputs": [],
   "source": [
    "def balayage():\n",
    "    x=0\n",
    "    y=x**x-3*x-7\n",
    "    while y<0:\n",
    "        x=x+0.1\n",
    "        y=x**2-3*x-7\n",
    "    print(x)"
   ]
  },
  {
   "cell_type": "markdown",
   "metadata": {},
   "source": [
    "Tester cet algorithme et vérifier la cohérence de vos résultats en comparant avec la valeur trouvée à la calculatrice :"
   ]
  },
  {
   "cell_type": "code",
   "execution_count": null,
   "metadata": {},
   "outputs": [],
   "source": []
  },
  {
   "cell_type": "markdown",
   "metadata": {},
   "source": [
    "Modifier l'algorithme ci-dessus pour qu'il donne une valeur approchée au centième près puis tester votre algorithme :"
   ]
  },
  {
   "cell_type": "code",
   "execution_count": null,
   "metadata": {},
   "outputs": [],
   "source": []
  },
  {
   "cell_type": "markdown",
   "metadata": {},
   "source": [
    "## II. Les listes "
   ]
  },
  {
   "cell_type": "markdown",
   "metadata": {},
   "source": [
    "### 1. Indice du terme d'une liste et longueur d'une liste"
   ]
  },
  {
   "cell_type": "markdown",
   "metadata": {},
   "source": [
    "La première valeur d'une liste L est obtenue en tapant L[0], la valeur suivante L[1], etc.\n",
    "\n",
    "Si L=['a','b','c','d'] alors le terme 'a' de la liste a pour **indice** 0, le terme 'b' a pour **index 1**, et le terme 'c' a pour **rang** 2. Les mots indice, index ou rang sont synonymes.\n",
    "\n",
    "La fonction Python *len()* renvoie la **longueur** ou la **taille** de la liste L, c'est-à-dire le nombre n de valeurs de la liste L.\n",
    "Attention, si la liste L contient n valeurs alors la dernière valeur de la liste est L[n-1] que l'on peut aussi obtenir par L[len(L)-1].\n"
   ]
  },
  {
   "cell_type": "markdown",
   "metadata": {},
   "source": [
    "<span style='color:blue'>**Exemple**</span> :\n",
    "\n",
    "On considère la liste L=[11,5,17,14].\n",
    "\n",
    "Recopier cette liste puis faire afficher le premier terme de cette liste"
   ]
  },
  {
   "cell_type": "code",
   "execution_count": null,
   "metadata": {},
   "outputs": [],
   "source": []
  },
  {
   "cell_type": "markdown",
   "metadata": {},
   "source": [
    "Recopier cette liste puis faire afficher le troisième terme de cette liste"
   ]
  },
  {
   "cell_type": "code",
   "execution_count": null,
   "metadata": {},
   "outputs": [],
   "source": []
  },
  {
   "cell_type": "markdown",
   "metadata": {},
   "source": [
    "Recopier cette liste puis faire afficher la longueur de cette liste"
   ]
  },
  {
   "cell_type": "code",
   "execution_count": null,
   "metadata": {},
   "outputs": [],
   "source": []
  },
  {
   "cell_type": "markdown",
   "metadata": {},
   "source": [
    "Recopier cette liste puis faire afficher le dernier terme de cette liste"
   ]
  },
  {
   "cell_type": "code",
   "execution_count": null,
   "metadata": {},
   "outputs": [],
   "source": []
  },
  {
   "cell_type": "markdown",
   "metadata": {},
   "source": [
    "### 2. Opérations sur les listes\n",
    "\n",
    "La **concaténation** des listes L1 et L2 se fait avec l'opérateur +. \n",
    "\n",
    "L1+L2 correspond à la liste composée des valeurs de L1 suivies des valeurs de L2.\n",
    "\n",
    "Il est à noter que la liste L1+L2 diffère de la liste L2+L1 comme le montre la *cellule Code* suivante :"
   ]
  },
  {
   "cell_type": "code",
   "execution_count": 10,
   "metadata": {},
   "outputs": [
    {
     "name": "stdout",
     "output_type": "stream",
     "text": [
      "[1, 2, 3, 4, 5, 6]\n",
      "[4, 5, 6, 1, 2, 3]\n"
     ]
    }
   ],
   "source": [
    "L1=[1,2,3]\n",
    "L2=[4,5,6]\n",
    "print(L1+L2)\n",
    "print(L2+L1)"
   ]
  },
  {
   "cell_type": "markdown",
   "metadata": {},
   "source": [
    "<span style='color:blue'>**Exemple**</span> :\n",
    "\n",
    "A partir des deux listes L1=[1,2,3] et L2=[\"a\",\"b\"], obtenir par concaténation la liste [1,2,3,\"a\",\"b\",1,2,3] dans la *cellule Code* suivante :"
   ]
  },
  {
   "cell_type": "code",
   "execution_count": null,
   "metadata": {},
   "outputs": [],
   "source": []
  },
  {
   "cell_type": "markdown",
   "metadata": {},
   "source": [
    "Au lieu de l'opérateur +, il est possible d'utiliser la méthode **append()** pour ajouter un élément par la droite à la liste."
   ]
  },
  {
   "cell_type": "code",
   "execution_count": null,
   "metadata": {},
   "outputs": [],
   "source": [
    "L=[1,2]\n",
    "L.append(3)\n",
    "print(L)"
   ]
  },
  {
   "cell_type": "markdown",
   "metadata": {},
   "source": [
    "<span style='color:blue'>**Exemple**</span> :\n",
    "\n",
    "En partant de la liste à vide L=[], obtenir avec la méthode *append()* la liste L=[\"a\",\"b\",\"c\"], puis l'afficher :"
   ]
  },
  {
   "cell_type": "code",
   "execution_count": null,
   "metadata": {},
   "outputs": [],
   "source": []
  },
  {
   "cell_type": "markdown",
   "metadata": {},
   "source": [
    "Nous allons maintenant créer la liste L=[1,2,3] à partir de la liste vide L=[] par **auto-concaténations** successives de la liste L avec des listes contenant une seule valeur."
   ]
  },
  {
   "cell_type": "code",
   "execution_count": null,
   "metadata": {},
   "outputs": [],
   "source": [
    "L=[]\n",
    "L=L+[1]\n",
    "L=L+[2]\n",
    "L=L+[3]\n",
    "print(L)"
   ]
  },
  {
   "cell_type": "markdown",
   "metadata": {},
   "source": [
    "L=L+[1]. Au début L=[] donc L+[1]=[]+[1] génère la liste [1] par concaténation de la liste vide [] et de la liste[1].\n",
    "\n",
    "Ce dernier résultat est affecté dans L.\n",
    "\n",
    "L=L+[2] donc L+[2]=[1]+[2] génère la liste [1,2] par concaténation de la liste [1] et de la liste[2].\n",
    "\n",
    "Ce dernier résultat est affecté dans L.\n",
    "\n",
    "L=L+[3] donc L+[3]=[1,2]+[3] génère la liste [1,2,3] par concaténation de la liste [1,2] et de la liste[3].\n",
    "\n",
    "Ce dernier résultat est affecté dans L.\n",
    "\n",
    "<span style='color:blue'>**Exemple**</span> :\n",
    "\n",
    "En partant de la liste L=[], obtenir par auto-concaténations \"à droite\" de listes à un seul élément, la liste L=[4,5,6].\n",
    "\n",
    "Faire de même, cette fois-ci par des auto-concaténations \"à gauche\"."
   ]
  },
  {
   "cell_type": "code",
   "execution_count": 8,
   "metadata": {},
   "outputs": [
    {
     "name": "stdout",
     "output_type": "stream",
     "text": [
      "[4, 5, 6]\n"
     ]
    }
   ],
   "source": [
    "L=[]\n",
    "L=L+[4]\n",
    "L=L+[5]\n",
    "L=L+[6]\n",
    "print(L)"
   ]
  },
  {
   "cell_type": "code",
   "execution_count": 9,
   "metadata": {},
   "outputs": [
    {
     "name": "stdout",
     "output_type": "stream",
     "text": [
      "[4, 5, 6]\n"
     ]
    }
   ],
   "source": [
    "L=[]\n",
    "L=[6]+L\n",
    "L=[5]+L\n",
    "L=[4]+L\n",
    "print(L)"
   ]
  },
  {
   "cell_type": "code",
   "execution_count": null,
   "metadata": {},
   "outputs": [],
   "source": []
  },
  {
   "cell_type": "markdown",
   "metadata": {},
   "source": [
    "### 3. Exercices sur les listes\n",
    "\n",
    "\n",
    "<span style='color:blue'>**Exercice 1**</span> :\n",
    "\n",
    "On considère l'algorithme ci-dessous : "
   ]
  },
  {
   "cell_type": "code",
   "execution_count": 18,
   "metadata": {},
   "outputs": [
    {
     "ename": "SyntaxError",
     "evalue": "unexpected EOF while parsing (<ipython-input-18-edfef407f3bb>, line 5)",
     "output_type": "error",
     "traceback": [
      "\u001b[1;36m  File \u001b[1;32m\"<ipython-input-18-edfef407f3bb>\"\u001b[1;36m, line \u001b[1;32m5\u001b[0m\n\u001b[1;33m    print(S\u001b[0m\n\u001b[1;37m           ^\u001b[0m\n\u001b[1;31mSyntaxError\u001b[0m\u001b[1;31m:\u001b[0m unexpected EOF while parsing\n"
     ]
    }
   ],
   "source": [
    "L=[5,7,9,4]\n",
    "S=0\n",
    "for k in range (0,len(L)):\n",
    "    S=S+L[k]\n",
    "print(S)"
   ]
  },
  {
   "cell_type": "markdown",
   "metadata": {},
   "source": [
    "Exécutez-le et dites quel est, selon vous, le but de cet algorithme : "
   ]
  },
  {
   "cell_type": "raw",
   "metadata": {},
   "source": []
  },
  {
   "cell_type": "markdown",
   "metadata": {},
   "source": [
    "\n",
    "<span style='color:blue'>**Exercice 2**</span> :\n",
    "\n",
    "Soit L une liste d'entiers naturels. En vous inspirant de l'algorithme de l'exercice 1, compléter la fonction **moyenne(L)** ci-dessous pour qu'elle renvoie la moyenne des valeurs de la liste L."
   ]
  },
  {
   "cell_type": "code",
   "execution_count": null,
   "metadata": {},
   "outputs": [],
   "source": [
    "def moyenne(L):\n",
    "    somme=0\n",
    "    for i in range(...):\n",
    "        somme=somme+...\n",
    "    return somme/...\n",
    "\n",
    "print(moyenne([1,2,3,4,5,6,7,8,9,10]))"
   ]
  },
  {
   "cell_type": "markdown",
   "metadata": {},
   "source": [
    "<span style='color:blue'>**Exercice 3**</span> :\n",
    "\n",
    "On souhaite obtenir une liste L de 10 entiers aléatoires qui simule 10 lancers d'un dé à 6 faces. En utilisant la fonction *randint(1,6)* du module *random*, compléter le script suivant : \n"
   ]
  },
  {
   "cell_type": "code",
   "execution_count": 25,
   "metadata": {},
   "outputs": [
    {
     "name": "stdout",
     "output_type": "stream",
     "text": [
      "[Ellipsis, Ellipsis, Ellipsis, Ellipsis, Ellipsis, Ellipsis, Ellipsis, Ellipsis, Ellipsis, Ellipsis]\n"
     ]
    }
   ],
   "source": [
    "from random import *\n",
    "def simulation():\n",
    "    L=[]\n",
    "    for i in range(10):\n",
    "        de=...\n",
    "        L=L+[...]\n",
    "    return L\n",
    "\n",
    "print(simulation())"
   ]
  },
  {
   "cell_type": "markdown",
   "metadata": {},
   "source": [
    "Exécutez plusieurs fois l'algorithme ci-dessus. Que remarque-t-on ? "
   ]
  },
  {
   "cell_type": "raw",
   "metadata": {},
   "source": []
  }
 ],
 "metadata": {
  "kernelspec": {
   "display_name": "Python 3",
   "language": "python",
   "name": "python3"
  },
  "language_info": {
   "codemirror_mode": {
    "name": "ipython",
    "version": 3
   },
   "file_extension": ".py",
   "mimetype": "text/x-python",
   "name": "python",
   "nbconvert_exporter": "python",
   "pygments_lexer": "ipython3",
   "version": "3.8.5"
  }
 },
 "nbformat": 4,
 "nbformat_minor": 4
}
